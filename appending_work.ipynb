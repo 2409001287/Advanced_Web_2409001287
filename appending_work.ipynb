{
  "nbformat": 4,
  "nbformat_minor": 0,
  "metadata": {
    "colab": {
      "provenance": []
    },
    "kernelspec": {
      "name": "python3",
      "display_name": "Python 3"
    },
    "language_info": {
      "name": "python"
    }
  },
  "cells": [
    {
      "cell_type": "code",
      "source": [
        "names = [\"Kagetera\",\"John\",\"Peter\",\"Alex\",\"Claude\"]\n",
        "names.append(\"BYIRINGIRO\")\n",
        "names.append(\"University\")\n",
        "names.append(\"Placide\")\n",
        "names.sort()\n",
        "print(names)"
      ],
      "metadata": {
        "colab": {
          "base_uri": "https://localhost:8080/"
        },
        "id": "7WgEFQBbebty",
        "outputId": "46201b56-f5d0-41c1-a0a6-cea5821f9ee9"
      },
      "execution_count": null,
      "outputs": [
        {
          "output_type": "stream",
          "name": "stdout",
          "text": [
            "['Alex', 'BYIRINGIRO', 'Claude', 'John', 'Kagetera', 'Peter', 'Placide', 'University of Kigali']\n"
          ]
        }
      ]
    }
  ]
}
