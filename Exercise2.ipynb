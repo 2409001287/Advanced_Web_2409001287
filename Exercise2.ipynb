{
  "nbformat": 4,
  "nbformat_minor": 0,
  "metadata": {
    "colab": {
      "provenance": [],
      "name": "Exercise2.ipynb"
    },
    "kernelspec": {
      "name": "python3",
      "display_name": "Python 3"
    },
    "language_info": {
      "name": "python"
    }
  },
  "cells": [
    {
      "cell_type": "code",
      "source": [
        "prices = {\"Apple\": 1000, \"Banana\": 500, \"Mango\": 1200}\n",
        "for fruit, price in prices.items():\n",
        "    print(f\"{fruit}: {price} RWF per kg\")\n",
        "total_cost = 0\n",
        "for price in prices.values():\n",
        "    total_cost += price * 2\n",
        "print(f\"Total cost for 2kg of each fruit: {total_cost} RWF\")\n"
      ],
      "metadata": {
        "id": "3gf7dy7Mpua_",
        "outputId": "f5910abb-bf38-4da6-c256-469dc7c99e9e",
        "colab": {
          "base_uri": "https://localhost:8080/"
        }
      },
      "execution_count": 2,
      "outputs": [
        {
          "output_type": "stream",
          "name": "stdout",
          "text": [
            "Apple: 1000 RWF per kg\n",
            "Banana: 500 RWF per kg\n",
            "Mango: 1200 RWF per kg\n",
            "Total cost for 2kg of each fruit: 5400 RWF\n"
          ]
        }
      ]
    }
  ]
}